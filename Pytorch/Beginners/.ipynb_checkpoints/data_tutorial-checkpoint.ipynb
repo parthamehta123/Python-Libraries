{
 "cells": [
  {
   "cell_type": "code",
   "execution_count": 1,
   "metadata": {},
   "outputs": [],
   "source": [
    "%matplotlib inline"
   ]
  },
  {
   "cell_type": "markdown",
   "metadata": {},
   "source": [
    "\n",
    "`Learn the Basics <intro.html>`_ ||\n",
    "`Quickstart <quickstart_tutorial.html>`_ || \n",
    "`Tensors <tensorqs_tutorial.html>`_ ||\n",
    "**Datasets & DataLoaders** ||\n",
    "`Transforms <transforms_tutorial.html>`_ ||\n",
    "`Build Model <buildmodel_tutorial.html>`_ ||\n",
    "`Autograd <autogradqs_tutorial.html>`_ ||\n",
    "`Optimization <optimization_tutorial.html>`_ ||\n",
    "`Save & Load Model <saveloadrun_tutorial.html>`_\n",
    "\n",
    "Datasets & Dataloaders\n",
    "===================\n",
    "\n",
    "\n"
   ]
  },
  {
   "cell_type": "markdown",
   "metadata": {},
   "source": [
    "Code for processing data samples can get messy and hard to maintain; we ideally want our dataset code\n",
    "to be decoupled from our model training code for better readability and modularity.\n",
    "PyTorch provides two data primitives: ``torch.utils.data.DataLoader`` and ``torch.utils.data.Dataset``\n",
    "that allow you to use pre-loaded datasets as well as your own data.\n",
    "``Dataset`` stores the samples and their corresponding labels, and ``DataLoader`` wraps an iterable around\n",
    "the ``Dataset`` to enable easy access to the samples.\n",
    "\n",
    "PyTorch domain libraries provide a number of pre-loaded datasets (such as FashionMNIST) that \n",
    "subclass ``torch.utils.data.Dataset`` and implement functions specific to the particular data.\n",
    "They can be used to prototype and benchmark your model. You can find them\n",
    "here: `Image Datasets <https://pytorch.org/vision/stable/datasets.html>`_,\n",
    "`Text Datasets  <https://pytorch.org/text/stable/datasets.html>`_, and\n",
    "`Audio Datasets <https://pytorch.org/audio/stable/datasets.html>`_\n",
    "\n",
    "\n"
   ]
  },
  {
   "cell_type": "markdown",
   "metadata": {},
   "source": [
    "Loading a Dataset\n",
    "-------------------\n",
    "\n",
    "Here is an example of how to load the `Fashion-MNIST <https://research.zalando.com/welcome/mission/research-projects/fashion-mnist/>`_ dataset from TorchVision.\n",
    "Fashion-MNIST is a dataset of Zalando’s article images consisting of of 60,000 training examples and 10,000 test examples.\n",
    "Each example comprises a 28×28 grayscale image and an associated label from one of 10 classes.\n",
    "\n",
    "We load the `FashionMNIST Dataset <https://pytorch.org/vision/stable/datasets.html#fashion-mnist>`_ with the following parameters:\n",
    " - ``root`` is the path where the train/test data is stored,\n",
    " - ``train`` specifies training or test dataset,\n",
    " - ``download=True`` downloads the data from the internet if it's not available at ``root``.\n",
    " - ``transform`` and ``target_transform`` specify the feature and label transformations\n",
    "\n"
   ]
  },
  {
   "cell_type": "code",
   "execution_count": 2,
   "metadata": {},
   "outputs": [
    {
     "name": "stdout",
     "output_type": "stream",
     "text": [
      "Downloading http://fashion-mnist.s3-website.eu-central-1.amazonaws.com/train-images-idx3-ubyte.gz\n",
      "Downloading http://fashion-mnist.s3-website.eu-central-1.amazonaws.com/train-images-idx3-ubyte.gz to NN/data/FashionMNIST/raw/train-images-idx3-ubyte.gz\n"
     ]
    },
    {
     "data": {
      "application/vnd.jupyter.widget-view+json": {
       "model_id": "34c64ded4ccc4c93a9f6b9ff2f323828",
       "version_major": 2,
       "version_minor": 0
      },
      "text/plain": [
       "  0%|          | 0/26421880 [00:00<?, ?it/s]"
      ]
     },
     "metadata": {},
     "output_type": "display_data"
    },
    {
     "name": "stdout",
     "output_type": "stream",
     "text": [
      "Extracting NN/data/FashionMNIST/raw/train-images-idx3-ubyte.gz to NN/data/FashionMNIST/raw\n",
      "\n",
      "Downloading http://fashion-mnist.s3-website.eu-central-1.amazonaws.com/train-labels-idx1-ubyte.gz\n",
      "Downloading http://fashion-mnist.s3-website.eu-central-1.amazonaws.com/train-labels-idx1-ubyte.gz to NN/data/FashionMNIST/raw/train-labels-idx1-ubyte.gz\n"
     ]
    },
    {
     "data": {
      "application/vnd.jupyter.widget-view+json": {
       "model_id": "72448cccc34c4b1f90f7d6906299da3e",
       "version_major": 2,
       "version_minor": 0
      },
      "text/plain": [
       "  0%|          | 0/29515 [00:00<?, ?it/s]"
      ]
     },
     "metadata": {},
     "output_type": "display_data"
    },
    {
     "name": "stdout",
     "output_type": "stream",
     "text": [
      "Extracting NN/data/FashionMNIST/raw/train-labels-idx1-ubyte.gz to NN/data/FashionMNIST/raw\n",
      "\n",
      "Downloading http://fashion-mnist.s3-website.eu-central-1.amazonaws.com/t10k-images-idx3-ubyte.gz\n",
      "Downloading http://fashion-mnist.s3-website.eu-central-1.amazonaws.com/t10k-images-idx3-ubyte.gz to NN/data/FashionMNIST/raw/t10k-images-idx3-ubyte.gz\n"
     ]
    },
    {
     "data": {
      "application/vnd.jupyter.widget-view+json": {
       "model_id": "cd69a8da5ac946bd8338720735e49569",
       "version_major": 2,
       "version_minor": 0
      },
      "text/plain": [
       "  0%|          | 0/4422102 [00:00<?, ?it/s]"
      ]
     },
     "metadata": {},
     "output_type": "display_data"
    },
    {
     "name": "stdout",
     "output_type": "stream",
     "text": [
      "Extracting NN/data/FashionMNIST/raw/t10k-images-idx3-ubyte.gz to NN/data/FashionMNIST/raw\n",
      "\n",
      "Downloading http://fashion-mnist.s3-website.eu-central-1.amazonaws.com/t10k-labels-idx1-ubyte.gz\n",
      "Downloading http://fashion-mnist.s3-website.eu-central-1.amazonaws.com/t10k-labels-idx1-ubyte.gz to NN/data/FashionMNIST/raw/t10k-labels-idx1-ubyte.gz\n"
     ]
    },
    {
     "data": {
      "application/vnd.jupyter.widget-view+json": {
       "model_id": "a92e0f4de7c04449ab7b3318a8226403",
       "version_major": 2,
       "version_minor": 0
      },
      "text/plain": [
       "  0%|          | 0/5148 [00:00<?, ?it/s]"
      ]
     },
     "metadata": {},
     "output_type": "display_data"
    },
    {
     "name": "stdout",
     "output_type": "stream",
     "text": [
      "Extracting NN/data/FashionMNIST/raw/t10k-labels-idx1-ubyte.gz to NN/data/FashionMNIST/raw\n",
      "\n"
     ]
    }
   ],
   "source": [
    "import torch\n",
    "from torch.utils.data import Dataset\n",
    "from torchvision import datasets\n",
    "from torchvision.transforms import ToTensor, Lambda\n",
    "import matplotlib.pyplot as plt\n",
    "\n",
    "training_data = datasets.FashionMNIST(\n",
    "    root=\"NN/data\",\n",
    "    train=True,\n",
    "    download=True,\n",
    "    transform=ToTensor(),\n",
    ")\n",
    "\n",
    "test_data = datasets.FashionMNIST(\n",
    "    root=\"NN/data\",\n",
    "    train=False,\n",
    "    download=True,\n",
    "    transform=ToTensor(),\n",
    ")"
   ]
  },
  {
   "cell_type": "markdown",
   "metadata": {},
   "source": [
    "Iterating and Visualizing the Dataset\n",
    "-----------------\n",
    "\n",
    "We can index ``Datasets`` manually like a list: ``training_data[index]``. \n",
    "We use ``matplotlib`` to visualize some samples in our training data.\n",
    "\n"
   ]
  },
  {
   "cell_type": "code",
   "execution_count": 3,
   "metadata": {},
   "outputs": [
    {
     "data": {
      "image/png": "[encoded data removed]",
      "text/plain": [
       "<Figure size 576x576 with 9 Axes>"
      ]
     },
     "metadata": {
      "needs_background": "light"
     },
     "output_type": "display_data"
    }
   ],
   "source": [
    "labels_map = {\n",
    "    0: \"T-Shirt\",\n",
    "    1: \"Trouser\",\n",
    "    2: \"Pullover\",\n",
    "    3: \"Dress\",\n",
    "    4: \"Coat\",\n",
    "    5: \"Sandal\",\n",
    "    6: \"Shirt\",\n",
    "    7: \"Sneaker\",\n",
    "    8: \"Bag\",\n",
    "    9: \"Ankle Boot\",\n",
    "}\n",
    "figure = plt.figure(figsize=(8,8))\n",
    "cols,rows = 3,3\n",
    "for i in range(1, cols*rows+1):\n",
    "    sample_idx = torch.randint(len(training_data), size = (1,)).item()\n",
    "    img, label = training_data[sample_idx]\n",
    "    figure.add_subplot(rows, cols, i)\n",
    "    plt.title(labels_map[label])\n",
    "    plt.axis(\"off\")\n",
    "    plt.imshow(img.squeeze(), cmap='gray')\n",
    "plt.show()"
   ]
  },
  {
   "cell_type": "markdown",
   "metadata": {},
   "source": [
    "..\n",
    " .. figure:: /_static/img/basics/fashion_mnist.png\n",
    "   :alt: fashion_mnist\n",
    "\n"
   ]
  },
  {
   "cell_type": "markdown",
   "metadata": {},
   "source": [
    "--------------\n",
    "\n",
    "\n"
   ]
  },
  {
   "cell_type": "markdown",
   "metadata": {},
   "source": [
    "Creating a Custom Dataset for your files\n",
    "---------------------------------------------------\n",
    "\n",
    "A custom Dataset class must implement three functions: `__init__`, `__len__`, and `__getitem__`. \n",
    "Take a look at this implementation; the FashionMNIST images are stored \n",
    "in a directory ``img_dir``, and their labels are stored separately in a CSV file ``annotations_file``. \n",
    "\n",
    "In the next sections, we'll break down what's happening in each of these functions.\n",
    "\n"
   ]
  },
  {
   "cell_type": "code",
   "execution_count": 4,
   "metadata": {},
   "outputs": [],
   "source": [
    "import os\n",
    "import pandas as pd\n",
    "from torchvision.io import read_image\n",
    "\n",
    "class CustomImageDataSet(Dataset):\n",
    "    def __init__(self, annotations_file, img_dir, transform=None, target_transform=None):\n",
    "        self.img_labels = pd.read_csv(annotations_file)\n",
    "        self.img_dir = img_dir\n",
    "        self.transform = transform\n",
    "        self.target_transform = target_transform\n",
    "    \n",
    "    def __len__(self):\n",
    "        return len(self,img_labels)\n",
    "    \n",
    "    def __getitem__(self,idx):\n",
    "        img_path = os.path.join(self.img_dir, self.img_labels.iloc[idx, 0])\n",
    "        image = read_image(img_path)\n",
    "        label = self.img_labels.iloc[idx,1]\n",
    "        if self.transform:\n",
    "            image = self.transform(image)\n",
    "        if self.target_transform:\n",
    "            label = self.target_transform(label)\n",
    "        sample = {\"image\": image, \"label\": label}\n",
    "        return sample"
   ]
  },
  {
   "cell_type": "markdown",
   "metadata": {},
   "source": [
    "__init__\n",
    "^^^^^^^^^^^^^^^^^^^^\n",
    "\n",
    "The __init__ function is run once when instantiating the Dataset object. We initialize\n",
    "the directory containing the images, the annotations file, and both transforms (covered \n",
    "in more detail in the next section). \n",
    "\n",
    "The labels.csv file looks like: ::\n",
    "\n",
    "    tshirt1.jpg, 0\n",
    "    tshirt2.jpg, 0\n",
    "    ......\n",
    "    ankleboot999.jpg, 9\n",
    "\n"
   ]
  },
  {
   "cell_type": "code",
   "execution_count": 5,
   "metadata": {},
   "outputs": [],
   "source": [
    "def __init__(self, annotations_file, img_dir, transform=None, target_transform=None):\n",
    "    self.img_labels = pd.read_csv(annotations_file)\n",
    "    self.img_dir = img_dir\n",
    "    self.transform = transform\n",
    "    self.target_transform = target_transform"
   ]
  },
  {
   "cell_type": "markdown",
   "metadata": {},
   "source": [
    "__len__\n",
    "^^^^^^^^^^^^^^^^^^^^\n",
    "\n",
    "The __len__ function returns the number of samples in our dataset.\n",
    "\n",
    "Example:\n",
    "\n"
   ]
  },
  {
   "cell_type": "code",
   "execution_count": 6,
   "metadata": {},
   "outputs": [],
   "source": [
    "def __len__(self):\n",
    "    return len(self.img_labels)"
   ]
  },
  {
   "cell_type": "markdown",
   "metadata": {},
   "source": [
    "__getitem__\n",
    "^^^^^^^^^^^^^^^^^^^^\n",
    "\n",
    "The __getitem__ function loads and returns a sample from the dataset at the given index ``idx``. \n",
    "Based on the index, it identifies the image's location on disk, converts that to a tensor using ``read_image``, retrieves the \n",
    "corresponding label from the csv data in ``self.img_labels``, calls the transform functions on them (if applicable), and returns the \n",
    "tensor image and corresponding label in a Python dict.\n",
    "\n"
   ]
  },
  {
   "cell_type": "code",
   "execution_count": 7,
   "metadata": {},
   "outputs": [],
   "source": [
    "def __getitem__(self, idx):\n",
    "    img_path = os.path.join(self.img_dir, self.img_labels.iloc[idx, 0])\n",
    "    image = read_image(img_path)\n",
    "    label = self.img_labels.iloc[idx, 1]\n",
    "    if self.transform:\n",
    "        image = self.transform(image)\n",
    "    if self.target_transform:\n",
    "        label = self.target_transform(label)\n",
    "    sample = {\"image\": image, \"label\": label}\n",
    "    return sample"
   ]
  },
  {
   "cell_type": "markdown",
   "metadata": {},
   "source": [
    "--------------\n",
    "\n",
    "\n"
   ]
  },
  {
   "cell_type": "markdown",
   "metadata": {},
   "source": [
    "Preparing your data for training with DataLoaders\n",
    "-------------------------------------------------\n",
    "The ``Dataset`` retrieves our dataset's features and labels one sample at a time. While training a model, we typically want to \n",
    "pass samples in \"minibatches\", reshuffle the data at every epoch to reduce model overfitting, and use Python's ``multiprocessing`` to\n",
    "speed up data retrieval.\n",
    "\n",
    "``DataLoader`` is an iterable that abstracts this complexity for us in an easy API.\n",
    "\n"
   ]
  },
  {
   "cell_type": "code",
   "execution_count": 8,
   "metadata": {},
   "outputs": [],
   "source": [
    "from torch.utils.data import DataLoader\n",
    "\n",
    "train_dataloader = DataLoader(training_data, batch_size=64, shuffle=True)\n",
    "test_dataloader = DataLoader(test_data, batch_size=64, shuffle=True)"
   ]
  },
  {
   "cell_type": "markdown",
   "metadata": {},
   "source": [
    "Iterate through the DataLoader\n",
    "--------------------------\n",
    "\n",
    "We have loaded that dataset into the ``Dataloader`` and can iterate through the dataset as needed.\n",
    "Each iteration below returns a batch of ``train_features`` and ``train_labels`` (containing ``batch_size=64`` features and labels respectively).\n",
    "Because we specified ``shuffle=True``, after we iterate over all batches the data is shuffled (for finer-grained control over \n",
    "the data loading order, take a look at `Samplers <https://pytorch.org/docs/stable/data.html#data-loading-order-and-sampler>`_).\n",
    "\n"
   ]
  },
  {
   "cell_type": "code",
   "execution_count": 9,
   "metadata": {},
   "outputs": [
    {
     "name": "stdout",
     "output_type": "stream",
     "text": [
      "Feature batch shape: torch.Size([64, 1, 28, 28])\n",
      "Feature batch shape: torch.Size([64])\n"
     ]
    },
    {
     "data": {
      "image/png": "[encoded data removed]",
      "text/plain": [
       "<Figure size 432x288 with 1 Axes>"
      ]
     },
     "metadata": {
      "needs_background": "light"
     },
     "output_type": "display_data"
    },
    {
     "name": "stdout",
     "output_type": "stream",
     "text": [
      "Label: 8\n"
     ]
    }
   ],
   "source": [
    "# Display image and label.\n",
    "train_features, train_labels = next(iter(train_dataloader))\n",
    "print(f\"Feature batch shape: {train_features.size()}\")\n",
    "print(f\"Feature batch shape: {train_labels.size()}\")\n",
    "img = train_features[0].squeeze()\n",
    "label = train_labels[0]\n",
    "plt.imshow(img, cmap='gray')\n",
    "plt.show()\n",
    "print(f\"Label: {label}\")"
   ]
  },
  {
   "cell_type": "code",
   "execution_count": 10,
   "metadata": {},
   "outputs": [
    {
     "data": {
      "text/plain": [
       "(tensor([[0.0000, 0.0000, 0.0000, 0.0000, 0.0000, 0.0000, 0.0000, 0.0000, 0.0000,\n",
       "          0.0000, 0.0000, 0.0000, 0.0000, 0.0000, 0.0000, 0.0000, 0.0000, 0.0000,\n",
       "          0.0000, 0.0000, 0.0000, 0.0000, 0.0000, 0.0000, 0.0000, 0.0000, 0.0000,\n",
       "          0.0000],\n",
       "         [0.0667, 0.0000, 0.0000, 0.0000, 0.0000, 0.0000, 0.0000, 0.0000, 0.0000,\n",
       "          0.0000, 0.0000, 0.0000, 0.0000, 0.0000, 0.0000, 0.0000, 0.0000, 0.0000,\n",
       "          0.0000, 0.0000, 0.0000, 0.0000, 0.0000, 0.0000, 0.0000, 0.0824, 0.0431,\n",
       "          0.0000],\n",
       "         [0.5961, 0.6314, 0.6078, 0.6549, 0.1961, 0.1059, 0.1137, 0.1098, 0.1098,\n",
       "          0.1098, 0.1176, 0.1176, 0.1098, 0.1216, 0.1333, 0.1490, 0.1569, 0.1569,\n",
       "          0.1647, 0.1647, 0.1647, 0.1686, 0.2078, 0.2235, 0.6549, 0.8039, 0.7412,\n",
       "          0.4980],\n",
       "         [0.5255, 0.7529, 0.8275, 0.8039, 0.8863, 0.9098, 0.8745, 0.8667, 0.8902,\n",
       "          0.8784, 0.8824, 0.8745, 0.8549, 0.8549, 0.8706, 0.8824, 0.8745, 0.8510,\n",
       "          0.8471, 0.8510, 0.8627, 0.8667, 0.8588, 0.9451, 0.7137, 0.5333, 0.7216,\n",
       "          0.8314],\n",
       "         [0.3333, 0.1961, 0.8235, 0.7098, 0.8078, 0.8353, 0.8196, 0.8000, 0.8431,\n",
       "          0.8392, 0.8392, 0.8353, 0.8314, 0.8314, 0.8353, 0.8431, 0.8275, 0.8039,\n",
       "          0.7961, 0.8039, 0.8118, 0.8196, 0.8078, 0.8000, 0.6745, 0.3255, 0.5647,\n",
       "          0.7490],\n",
       "         [0.1843, 0.0784, 1.0000, 0.7569, 0.8235, 0.8314, 0.8314, 0.7686, 0.8314,\n",
       "          0.8235, 0.8235, 0.8235, 0.8235, 0.8275, 0.8196, 0.8235, 0.8235, 0.8078,\n",
       "          0.8000, 0.8157, 0.8196, 0.8196, 0.8118, 0.8667, 0.9529, 0.6196, 0.8196,\n",
       "          0.8039],\n",
       "         [0.3529, 0.1059, 0.8588, 0.7059, 0.8588, 0.8471, 0.8392, 0.8275, 0.8353,\n",
       "          0.8196, 0.8157, 0.8196, 0.8196, 0.8118, 0.8000, 0.8000, 0.8118, 0.8157,\n",
       "          0.8157, 0.8078, 0.8235, 0.8392, 0.8706, 0.9059, 0.7804, 0.8471, 1.0000,\n",
       "          0.6118],\n",
       "         [0.6353, 0.0510, 1.0000, 0.8196, 0.7882, 0.8431, 0.8118, 0.8157, 0.8157,\n",
       "          0.8392, 0.8353, 0.8471, 0.8471, 0.8314, 0.8235, 0.8118, 0.8078, 0.8196,\n",
       "          0.8275, 0.8157, 0.8275, 0.8588, 0.9294, 0.8824, 0.8510, 0.7725, 1.0000,\n",
       "          0.6392],\n",
       "         [0.7098, 0.0078, 0.9882, 0.8471, 0.7412, 0.8275, 0.8039, 0.8235, 0.8353,\n",
       "          0.8275, 0.8196, 0.8314, 0.8275, 0.8314, 0.8314, 0.8235, 0.8196, 0.8039,\n",
       "          0.8078, 0.8275, 0.8196, 0.8078, 0.8157, 0.8431, 0.8980, 0.7843, 0.9647,\n",
       "          0.6745],\n",
       "         [0.3333, 0.0863, 1.0000, 0.8235, 0.7137, 0.8157, 0.8078, 0.8471, 0.8549,\n",
       "          0.8392, 0.8314, 0.8392, 0.8314, 0.8235, 0.8275, 0.8196, 0.8000, 0.8000,\n",
       "          0.8314, 0.8392, 0.8196, 0.8039, 0.8157, 0.7922, 0.7686, 0.7608, 0.9765,\n",
       "          0.5020],\n",
       "         [0.2549, 0.0667, 0.9961, 0.8863, 0.7020, 0.7843, 0.7882, 0.8235, 0.8431,\n",
       "          0.8471, 0.8431, 0.8392, 0.8275, 0.8275, 0.8314, 0.8314, 0.8039, 0.8000,\n",
       "          0.8196, 0.8235, 0.8078, 0.7961, 0.8118, 0.8000, 0.8039, 0.8431, 1.0000,\n",
       "          0.3098],\n",
       "         [0.4000, 0.0000, 0.8706, 0.9294, 0.7216, 0.8078, 0.7961, 0.8118, 0.8314,\n",
       "          0.8549, 0.8627, 0.8431, 0.8314, 0.8353, 0.8353, 0.8431, 0.8235, 0.8118,\n",
       "          0.8000, 0.8157, 0.8078, 0.8000, 0.7961, 0.7843, 0.7961, 0.8588, 1.0000,\n",
       "          0.1176],\n",
       "         [0.4627, 0.0078, 0.9059, 0.9216, 0.7373, 0.8078, 0.7961, 0.8196, 0.8275,\n",
       "          0.8431, 0.8627, 0.8549, 0.8549, 0.8471, 0.8275, 0.8314, 0.8275, 0.8431,\n",
       "          0.8275, 0.8118, 0.7922, 0.7922, 0.7922, 0.7843, 0.7961, 0.8588, 1.0000,\n",
       "          0.2196],\n",
       "         [0.5255, 0.0000, 0.8314, 0.9373, 0.7608, 0.8157, 0.7843, 0.8157, 0.8157,\n",
       "          0.8471, 0.8667, 0.8667, 0.8706, 0.8510, 0.8314, 0.8353, 0.8196, 0.8431,\n",
       "          0.8471, 0.8314, 0.8157, 0.8118, 0.8000, 0.7882, 0.8078, 0.8706, 0.9137,\n",
       "          0.1647],\n",
       "         [0.5725, 0.0000, 0.6471, 0.9451, 0.7569, 0.8078, 0.7725, 0.8039, 0.8039,\n",
       "          0.8588, 0.8745, 0.8706, 0.8706, 0.8667, 0.8627, 0.8627, 0.8314, 0.8235,\n",
       "          0.8196, 0.8353, 0.8275, 0.8196, 0.8078, 0.8000, 0.8235, 0.8745, 0.9569,\n",
       "          0.2275],\n",
       "         [0.6000, 0.0000, 0.4353, 0.9647, 0.7765, 0.8039, 0.7804, 0.8039, 0.8039,\n",
       "          0.8784, 0.8824, 0.8745, 0.8706, 0.8706, 0.8667, 0.8549, 0.8392, 0.8235,\n",
       "          0.8196, 0.8235, 0.8235, 0.8275, 0.8275, 0.8235, 0.8196, 0.8588, 0.9843,\n",
       "          0.2745],\n",
       "         [0.6392, 0.1843, 0.3490, 0.9647, 0.8078, 0.7961, 0.7882, 0.8078, 0.8196,\n",
       "          0.8706, 0.8784, 0.8706, 0.8667, 0.8706, 0.8667, 0.8588, 0.8431, 0.8275,\n",
       "          0.8196, 0.8314, 0.8353, 0.8353, 0.8275, 0.8275, 0.8196, 0.8588, 0.9882,\n",
       "          0.2588],\n",
       "         [0.6353, 0.3451, 0.3961, 0.9765, 0.8667, 0.8157, 0.7882, 0.7882, 0.8196,\n",
       "          0.8745, 0.8784, 0.8745, 0.8667, 0.8745, 0.8745, 0.8667, 0.8588, 0.8353,\n",
       "          0.8157, 0.8275, 0.8275, 0.8275, 0.8353, 0.8353, 0.8314, 0.8667, 0.9882,\n",
       "          0.2980],\n",
       "         [0.6314, 0.4275, 0.4471, 0.9529, 0.8745, 0.8314, 0.7922, 0.8078, 0.8588,\n",
       "          0.8784, 0.8902, 0.8863, 0.8784, 0.8784, 0.8784, 0.8745, 0.8667, 0.8549,\n",
       "          0.8471, 0.8392, 0.8275, 0.8196, 0.8196, 0.8196, 0.8118, 0.8510, 0.9843,\n",
       "          0.4902],\n",
       "         [0.6353, 0.4863, 0.5294, 0.9490, 0.8706, 0.8000, 0.8039, 0.7961, 0.8627,\n",
       "          0.8863, 0.8941, 0.8902, 0.8863, 0.8824, 0.8784, 0.8784, 0.8667, 0.8667,\n",
       "          0.8667, 0.8510, 0.8353, 0.8275, 0.8078, 0.8078, 0.8118, 0.8588, 0.9765,\n",
       "          0.5451],\n",
       "         [0.5922, 0.5098, 0.6000, 0.9333, 0.9020, 0.8000, 0.7961, 0.8039, 0.8667,\n",
       "          0.8941, 0.8941, 0.8863, 0.8941, 0.8863, 0.8784, 0.8706, 0.8667, 0.8588,\n",
       "          0.8510, 0.8549, 0.8549, 0.8627, 0.8392, 0.8392, 0.8392, 0.8784, 0.9804,\n",
       "          0.4196],\n",
       "         [0.5176, 0.4510, 0.6353, 0.9412, 0.9255, 0.8235, 0.7725, 0.8314, 0.8824,\n",
       "          0.8941, 0.8980, 0.8941, 0.8941, 0.8980, 0.8941, 0.8824, 0.8745, 0.8667,\n",
       "          0.8549, 0.8549, 0.8510, 0.8510, 0.8235, 0.8314, 0.8431, 0.8824, 0.9686,\n",
       "          0.2353],\n",
       "         [0.3961, 0.1882, 0.6980, 0.9647, 0.9333, 0.8745, 0.8078, 0.8824, 0.8980,\n",
       "          0.8941, 0.9059, 0.8980, 0.9020, 0.9098, 0.8980, 0.8863, 0.8706, 0.8627,\n",
       "          0.8588, 0.8510, 0.8431, 0.8314, 0.8314, 0.8392, 0.8627, 0.8902, 0.9647,\n",
       "          0.2275],\n",
       "         [0.1451, 0.2039, 0.7647, 0.9412, 0.9451, 0.9294, 0.8471, 0.8627, 0.8941,\n",
       "          0.8980, 0.9059, 0.9059, 0.9098, 0.8784, 0.8863, 0.8706, 0.8667, 0.8510,\n",
       "          0.8431, 0.8627, 0.8706, 0.8784, 0.8902, 0.8824, 0.8706, 0.8863, 0.9686,\n",
       "          0.2431],\n",
       "         [0.0000, 0.2627, 0.8353, 0.8706, 0.9333, 0.9490, 0.8980, 0.8784, 0.8941,\n",
       "          0.9216, 0.9098, 0.8824, 0.9176, 0.9137, 0.8902, 0.8863, 0.9020, 0.8941,\n",
       "          0.8784, 0.8471, 0.8902, 0.8824, 0.8667, 0.8941, 0.8784, 0.9216, 0.8745,\n",
       "          0.0000],\n",
       "         [0.0000, 0.0000, 0.7255, 0.8549, 0.8863, 0.8902, 0.8902, 0.9020, 0.9098,\n",
       "          0.8745, 0.8745, 0.9098, 0.8902, 0.9098, 0.8863, 0.8941, 0.8588, 0.8549,\n",
       "          0.8745, 0.8627, 0.8510, 0.8706, 0.8431, 0.8235, 0.8706, 0.9098, 0.8392,\n",
       "          0.0000],\n",
       "         [0.0196, 0.0000, 0.3725, 0.9647, 0.9137, 0.8902, 0.9569, 0.9686, 0.9451,\n",
       "          0.9608, 0.9647, 0.9529, 0.9255, 0.9255, 0.9373, 0.9373, 0.9804, 0.9922,\n",
       "          0.9373, 0.9725, 0.9686, 0.9373, 0.9843, 0.9961, 0.9176, 0.9843, 0.9176,\n",
       "          0.0000],\n",
       "         [0.0000, 0.0000, 0.0000, 0.2431, 0.4863, 0.6549, 0.7804, 0.7137, 0.8196,\n",
       "          0.8824, 0.7098, 0.8353, 0.8824, 0.8431, 0.8471, 0.8078, 0.6863, 0.5725,\n",
       "          0.8235, 0.7059, 0.6863, 0.7569, 0.6471, 0.4941, 0.5490, 0.5451, 0.0157,\n",
       "          0.0000]]),\n",
       " tensor(8))"
      ]
     },
     "execution_count": 10,
     "metadata": {},
     "output_type": "execute_result"
    }
   ],
   "source": [
    "img, label"
   ]
  },
  {
   "cell_type": "markdown",
   "metadata": {},
   "source": [
    "--------------\n",
    "\n",
    "\n"
   ]
  },
  {
   "cell_type": "markdown",
   "metadata": {},
   "source": [
    "Further Reading\n",
    "--------------\n",
    "- `torch.utils.data API <https://pytorch.org/docs/stable/data.html>`_\n",
    "\n"
   ]
  }
 ],
 "metadata": {
  "kernelspec": {
   "display_name": "Python 3 (ipykernel)",
   "language": "python",
   "name": "python3"
  },
  "language_info": {
   "codemirror_mode": {
    "name": "ipython",
    "version": 3
   },
   "file_extension": ".py",
   "mimetype": "text/x-python",
   "name": "python",
   "nbconvert_exporter": "python",
   "pygments_lexer": "ipython3",
   "version": "3.8.5"
  }
 },
 "nbformat": 4,
 "nbformat_minor": 1
}
